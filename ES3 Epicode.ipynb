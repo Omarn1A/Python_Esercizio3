{
 "cells": [
  {
   "cell_type": "code",
   "execution_count": 24,
   "id": "3d3bca65-46a8-40c4-92e5-2e3fb2bf5dc4",
   "metadata": {},
   "outputs": [],
   "source": [
    "import numpy as np\n",
    "import math\n",
    "import pandas as pd\n"
   ]
  },
  {
   "cell_type": "code",
   "execution_count": 44,
   "id": "f6243022-6a2b-43e1-85e3-399b9fb5a797",
   "metadata": {},
   "outputs": [
    {
     "data": {
      "text/plain": [
       "list"
      ]
     },
     "execution_count": 44,
     "metadata": {},
     "output_type": "execute_result"
    }
   ],
   "source": [
    "mat = [[0, 1, 2, 3, 4], [5, 6, 7, 8, 9], [10, 11, 12, 13, 14]]\n",
    "type(mat)"
   ]
  },
  {
   "cell_type": "code",
   "execution_count": 48,
   "id": "155c4784-e448-4d52-9d42-832862f5f9d6",
   "metadata": {},
   "outputs": [
    {
     "data": {
      "text/plain": [
       "[5, 6, 7, 8, 9]"
      ]
     },
     "execution_count": 48,
     "metadata": {},
     "output_type": "execute_result"
    }
   ],
   "source": [
    "mat[1]"
   ]
  },
  {
   "cell_type": "code",
   "execution_count": 35,
   "id": "a6894b28-d277-4019-b3b0-54a221895532",
   "metadata": {},
   "outputs": [
    {
     "data": {
      "text/plain": [
       "-0.5440211108893698"
      ]
     },
     "execution_count": 35,
     "metadata": {},
     "output_type": "execute_result"
    }
   ],
   "source": [
    "alpha=10\n",
    "math.sin(alpha)\n"
   ]
  },
  {
   "cell_type": "code",
   "execution_count": 36,
   "id": "7b4504f3-7061-4c7b-8d50-7f6f7226e6d1",
   "metadata": {},
   "outputs": [
    {
     "data": {
      "text/plain": [
       "-0.8390715290764524"
      ]
     },
     "execution_count": 36,
     "metadata": {},
     "output_type": "execute_result"
    }
   ],
   "source": [
    "math.cos(alpha) \n"
   ]
  },
  {
   "cell_type": "code",
   "execution_count": 37,
   "id": "681f958e-5b25-4e50-88ea-87e21fc27073",
   "metadata": {},
   "outputs": [
    {
     "data": {
      "text/plain": [
       "3628800"
      ]
     },
     "execution_count": 37,
     "metadata": {},
     "output_type": "execute_result"
    }
   ],
   "source": [
    "math.factorial(alpha) \n"
   ]
  },
  {
   "cell_type": "code",
   "execution_count": 38,
   "id": "bd5807ea-a6e7-4c74-b6f3-aae717a98979",
   "metadata": {},
   "outputs": [
    {
     "data": {
      "text/plain": [
       "3.141592653589793"
      ]
     },
     "execution_count": 38,
     "metadata": {},
     "output_type": "execute_result"
    }
   ],
   "source": [
    "math.pi"
   ]
  },
  {
   "cell_type": "code",
   "execution_count": 39,
   "id": "446e2677-1f33-4893-8571-2c301b96d27f",
   "metadata": {},
   "outputs": [
    {
     "data": {
      "text/plain": [
       "180.0"
      ]
     },
     "execution_count": 39,
     "metadata": {},
     "output_type": "execute_result"
    }
   ],
   "source": [
    "math.degrees(math.pi)"
   ]
  },
  {
   "cell_type": "code",
   "execution_count": 42,
   "id": "ab34ff86-1698-474f-8d43-13f2a1ba8d2a",
   "metadata": {},
   "outputs": [
    {
     "name": "stdout",
     "output_type": "stream",
     "text": [
      "Help on built-in function degrees in module math:\n",
      "\n",
      "degrees(x, /)\n",
      "    Convert angle x from radians to degrees.\n",
      "\n"
     ]
    }
   ],
   "source": [
    "help(math.degrees)"
   ]
  },
  {
   "cell_type": "code",
   "execution_count": 25,
   "id": "d8ffef3f-3754-4889-a6ae-b6318fadba6b",
   "metadata": {},
   "outputs": [
    {
     "name": "stdout",
     "output_type": "stream",
     "text": [
      "8150\n"
     ]
    }
   ],
   "source": [
    "lst = [2000, 5500, 7200, 4320, 1280, 1900, 2500, 3900, 6410, 8150, 7100, 5350]\n",
    "lst = np.array(lst)\n",
    "print(lst.max())"
   ]
  },
  {
   "cell_type": "code",
   "execution_count": 3,
   "id": "6eeef5bc-f756-4533-8200-d3db3ccb790a",
   "metadata": {},
   "outputs": [
    {
     "name": "stdout",
     "output_type": "stream",
     "text": [
      "1280\n"
     ]
    }
   ],
   "source": [
    "print(lst.min())"
   ]
  },
  {
   "cell_type": "code",
   "execution_count": 4,
   "id": "80ae5778-544c-427a-8ca5-821b422bc21d",
   "metadata": {},
   "outputs": [
    {
     "name": "stdout",
     "output_type": "stream",
     "text": [
      "[5500 7200 6410 8150 7100 5350]\n"
     ]
    }
   ],
   "source": [
    "filtro = lst > 4999\n",
    "maggiori=lst[filtro]\n",
    "print(maggiori)"
   ]
  },
  {
   "cell_type": "code",
   "execution_count": 5,
   "id": "fa64ca74-aa72-4585-a2b0-5b952337c893",
   "metadata": {},
   "outputs": [
    {
     "data": {
      "text/plain": [
       "6"
      ]
     },
     "execution_count": 5,
     "metadata": {},
     "output_type": "execute_result"
    }
   ],
   "source": [
    "maggiori.size"
   ]
  },
  {
   "cell_type": "code",
   "execution_count": 6,
   "id": "88019c0e-3a6b-4524-a0ae-ad5f72693df5",
   "metadata": {},
   "outputs": [
    {
     "name": "stdout",
     "output_type": "stream",
     "text": [
      "[2000 1280 1900 2500]\n"
     ]
    }
   ],
   "source": [
    "filtro1 = lst < 3000\n",
    "minori=lst[filtro1]\n",
    "print(minori)"
   ]
  },
  {
   "cell_type": "code",
   "execution_count": 7,
   "id": "ea90f76b-0d11-489f-9313-87cb9abef74b",
   "metadata": {},
   "outputs": [
    {
     "data": {
      "text/plain": [
       "4"
      ]
     },
     "execution_count": 7,
     "metadata": {},
     "output_type": "execute_result"
    }
   ],
   "source": [
    "minori.size"
   ]
  },
  {
   "cell_type": "code",
   "execution_count": 8,
   "id": "d531c607-f7cf-4c2b-b56f-5fe6eaf6d26e",
   "metadata": {},
   "outputs": [],
   "source": [
    "fatturati_dict = {1997: 12_000, 1998: 15_000, 1999: 20_000, 2000: 23_000, 2001: 25_000, 2002: 17_000, 2003: 14_000, 2004: 21_000}"
   ]
  },
  {
   "cell_type": "code",
   "execution_count": 9,
   "id": "54652fbf-194c-46eb-aa24-763b4c418529",
   "metadata": {},
   "outputs": [],
   "source": [
    "fatturati_series = pd.Series([12_000, 15_000, 20_000, 23_000, 25_000, 17_000, 14_000, 21_000], index=range(1997, 2005))"
   ]
  },
  {
   "cell_type": "code",
   "execution_count": 11,
   "id": "39a9649b-a208-4bb6-ba2e-d82b60fb35d3",
   "metadata": {},
   "outputs": [
    {
     "data": {
      "text/plain": [
       "12000"
      ]
     },
     "execution_count": 11,
     "metadata": {},
     "output_type": "execute_result"
    }
   ],
   "source": [
    "fatturati_dict[1997] "
   ]
  },
  {
   "cell_type": "code",
   "execution_count": 14,
   "id": "4d6ce400-63d4-408a-a00a-6f76caa908b4",
   "metadata": {},
   "outputs": [
    {
     "data": {
      "text/plain": [
       "int"
      ]
     },
     "execution_count": 14,
     "metadata": {},
     "output_type": "execute_result"
    }
   ],
   "source": [
    "type(fatturati_dict[1997])"
   ]
  },
  {
   "cell_type": "code",
   "execution_count": 12,
   "id": "a1bbde2b-a1cc-42c4-9b76-98cc736d803a",
   "metadata": {},
   "outputs": [
    {
     "data": {
      "text/plain": [
       "12000"
      ]
     },
     "execution_count": 12,
     "metadata": {},
     "output_type": "execute_result"
    }
   ],
   "source": [
    "fatturati_series[1997]"
   ]
  },
  {
   "cell_type": "code",
   "execution_count": 13,
   "id": "30a3bfd7-580c-42d9-ad6f-d505631816da",
   "metadata": {},
   "outputs": [
    {
     "data": {
      "text/plain": [
       "numpy.int64"
      ]
     },
     "execution_count": 13,
     "metadata": {},
     "output_type": "execute_result"
    }
   ],
   "source": [
    "type(fatturati_series[1997])"
   ]
  },
  {
   "cell_type": "code",
   "execution_count": 16,
   "id": "2e00e73b-57c8-4640-b15b-907b187ef678",
   "metadata": {},
   "outputs": [
    {
     "data": {
      "text/plain": [
       "array([ 200,  400,  600,  800, 1000, 1200, 1400, 1600, 1800, 2000])"
      ]
     },
     "execution_count": 16,
     "metadata": {},
     "output_type": "execute_result"
    }
   ],
   "source": [
    "stipendi = np.array( [100, 200, 300, 400, 500,  600, 700, 800, 900, 1000] )\n",
    "stipendi*2"
   ]
  },
  {
   "cell_type": "code",
   "execution_count": 23,
   "id": "f6387981-eebe-4f7d-b8a5-e623810891c9",
   "metadata": {},
   "outputs": [
    {
     "name": "stdout",
     "output_type": "stream",
     "text": [
      "[200, 400, 600, 800, 1000, 1200, 1400, 1600, 1800, 2000]\n"
     ]
    }
   ],
   "source": [
    "stipendi1 = [100, 200, 300, 400, 500,  600, 700, 800, 900, 1000]\n",
    "stipendi_raddoppiati = []\n",
    "for stipendio in stipendi:\n",
    "    stipendi_raddoppiati.append(stipendio * 2)\n",
    "\n",
    "print(stipendi_raddoppiati)"
   ]
  },
  {
   "cell_type": "code",
   "execution_count": null,
   "id": "0e3f46af-7adc-4233-94f9-b86ce70087f3",
   "metadata": {},
   "outputs": [],
   "source": []
  }
 ],
 "metadata": {
  "kernelspec": {
   "display_name": "Python 3 (ipykernel)",
   "language": "python",
   "name": "python3"
  },
  "language_info": {
   "codemirror_mode": {
    "name": "ipython",
    "version": 3
   },
   "file_extension": ".py",
   "mimetype": "text/x-python",
   "name": "python",
   "nbconvert_exporter": "python",
   "pygments_lexer": "ipython3",
   "version": "3.11.7"
  }
 },
 "nbformat": 4,
 "nbformat_minor": 5
}
